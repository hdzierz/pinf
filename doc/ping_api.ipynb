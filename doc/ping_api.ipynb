{
 "cells": [
  {
   "cell_type": "markdown",
   "metadata": {
    "slideshow": {
     "slide_type": "slide"
    }
   },
   "source": [
    "# Pinf Restful API"
   ]
  },
  {
   "cell_type": "markdown",
   "metadata": {
    "slideshow": {
     "slide_type": "fragment"
    }
   },
   "source": [
    "## Reports (GET)"
   ]
  },
  {
   "cell_type": "markdown",
   "metadata": {
    "slideshow": {
     "slide_type": "fragment"
    }
   },
   "source": [
    "The API has a collection of reports that can be extedned by the developer. Currently you use a GET with the following format:\n",
    "\n",
    "http://10.1.4.56:8080/report/(db)/(report)/[fmt]/?[qry]\n",
    "\n",
    "Where\n",
    "\n",
    "* db = Database (e.g. genotype)\n",
    "* report = report\n",
    "* fmt = format\n",
    " * csv, yaml, json, xls, xlsx\n",
    "* query\n",
    " \n"
   ]
  },
  {
   "cell_type": "markdown",
   "metadata": {
    "slideshow": {
     "slide_type": "slide"
    }
   },
   "source": [
    "## Example"
   ]
  },
  {
   "cell_type": "code",
   "execution_count": 1,
   "metadata": {
    "collapsed": false,
    "slideshow": {
     "slide_type": "fragment"
    }
   },
   "outputs": [
    {
     "data": {
      "text/plain": [
       "<Response [200]>"
      ]
     },
     "execution_count": 1,
     "metadata": {},
     "output_type": "execute_result"
    }
   ],
   "source": [
    "import requests\n",
    "\n",
    "r = requests.get('http://10.1.4.56:8080/report/marker/csv/')\n",
    "r\n"
   ]
  },
  {
   "cell_type": "code",
   "execution_count": 2,
   "metadata": {
    "collapsed": false,
    "slideshow": {
     "slide_type": "fragment"
    }
   },
   "outputs": [
    {
     "data": {
      "text/plain": [
       "u'datasource__name,ontology__name,xreflsid,description,search_index,obid,sex,obkeywords,alias,lastupdatedby,lastupdateddate,createdby,createddate,statuscode,name,KEA_ID,tolerante_older_Luis,susceptible_2014.04.15_Luis,replicate_2014.04.29_Luis,susceptible_older_Luis,no_ooze_2014.09.15,ooze_2014.08.28_Luis,GENOTYPE_ID,replicate_2014.04.15_Luis,Sex,ooze_2014.09.23,no_ooze_2014.09.04_Luis,categories_2014.10.17,susceptible_2014.04.29_Luis,ooze_2014.10.17,tolerant_2014.04.15_Luis,tolerant_2014.09.29_Luis,EBRIDA_ID,ooze_2014.10.08\\r\\nInitial Import Kiwifruit PSA Markers,Marker,Marker.unknown,,\"\\'marker\\':1 \\'unknown\\':2,3,4\",58,F,Marker unknown,unknown,,2015-06-07 23:01:48.276250+00:00,,2015-06-07 23:01:48.276046+00:00,1,unknown,Kiw1KA0C.01,0.0,1.0,1.0,1.0,1.0,1.0,2.0,1.0,F,1.0,1.0,2.0,1.0,1.0,0.0,0.0,GL_287_2,1.0\\r\\nInitial Import Kiwifruit PSA Markers,Marker,Marker.unknown,,\"\\'marker\\':1 \\'unknown\\':2,3,4\",59,M,Marker unknown,unknown,,2015-06-07 23:01:48.310489+00:00,,2015-06-07 23:01:48.310433+00:00,1,unknown,Kiw1K9ZX.01,0.0,1.0,1.0,1.0,1.0,1.0,5.0,1.0,M,1.0,1.0,2.0,1.0,1.0,0.0,0.0,GL_287_5,1.0\\r\\nInitial Import Kiwifruit PSA Markers,Marker,Marker.unknown,,\"\\'marker\\':1 \\'unknown\\':2,3,4\",60,F,Marker unknown,unknown,,2015-06-07 23:01:48.395819+00:00,,2015-06-07 23:01:48.395730+00:00,1,unknown,Kiw1K9X5.01,0.0,1.0,1.0,1.0,1.0,1.0,6.0,1.0,F,1.0,1.0,3.0,1.0,1.0,0.0,0.0,GL_287_6,1.0\\r\\nInitial Import Kiwifruit PSA Markers,Marker,Marker.unknown,,\"\\'marker\\':1 \\'unknown\\':2,3,4\",61,?,Marker unknown,unknown,,2015-06-07 23:01:48.479842+00:00,,2015-06-07 23:01:48.479754+00:00,1,unknown,Kiw1K9WN.01,0.0,1.0,1.0,1.0,1.0,1.0,7.0,1.0,?,1.0,1.0,5.0,1.0,1.0,0.0,0.0,GL_287_7,1.0\\r\\nInitial Import Kiwifruit PSA Markers,Marker,Marker.unknown,,\"\\'marker\\':1 \\'unknown\\':2,3,4\",57,M,Marker unknown,unknown,,2015-06-09 04:05:41.776448+00:00,,2015-06-07 23:01:48.239992+00:00,1,unknown,Kiw1KA0B.03,1.0,5.0,0.0,1.0,1.0,0.0,1.0,1.0,1.0,M,1.0,1.0,1.0,1.0,1.0,0.0,GL_287_1,1.0\\r\\nInitial Import Kiwifruit PSA Markers,Marker,Marker.unknown,,\"\\'marker\\':1 \\'unknown\\':2,3,4\",62,M,Marker unknown,unknown,,2015-06-07 23:01:48.513895+00:00,,2015-06-07 23:01:48.513806+00:00,1,unknown,Kiw1K9X6.01,0.0,1.0,1.0,1.0,1.0,1.0,9.0,1.0,M,1.0,1.0,3.0,1.0,1.0,0.0,0.0,GL_287_9,1.0\\r\\nInitial Import Kiwifruit PSA Markers,Marker,Marker.unknown,,\"\\'marker\\':1 \\'unknown\\':2,3,4\",63,M,Marker unknown,unknown,,2015-06-07 23:01:48.546650+00:00,,2015-06-07 23:01:48.546596+00:00,1,unknown,Kiw1KA06.01,1.0,0.0,1.0,0.0,1.0,1.0,11.0,1.0,M,1.0,1.0,3.0,1.0,1.0,1.0,1.0,GL_287_11,1.0\\r\\nInitial Import Kiwifruit PSA Markers,Marker,Marker.unknown,,\"\\'marker\\':1 \\'unknown\\':2,3,4\",64,F,Marker unknown,unknown,,2015-06-07 23:01:48.581233+00:00,,2015-06-07 23:01:48.581184+00:00,1,unknown,Kiw1K9X1.01,0.0,1.0,1.0,1.0,1.0,1.0,15.0,1.0,F,1.0,1.0,2.0,1.0,1.0,0.0,0.0,GL_287_15,1.0\\r\\nInitial Import Kiwifruit PSA Markers,Marker,Marker.unknown,,\"\\'marker\\':1 \\'unknown\\':2,3,4\",65,M,Marker unknown,unknown,,2015-06-07 23:01:48.616262+00:00,,2015-06-07 23:01:48.616234+00:00,1,unknown,Kiw1K9ZY.01,0.0,1.0,1.0,1.0,1.0,1.0,17.0,1.0,M,1.0,1.0,2.0,1.0,1.0,1.0,1.0,GL_287_17,1.0\\r\\nInitial Import Kiwifruit PSA Markers,Marker,Marker.unknown,,\"\\'marker\\':1 \\'unknown\\':2,3,4\",135,,Marker unknown,unknown,,2015-06-09 04:02:06.128196+00:00,,2015-06-09 04:02:06.128171+00:00,1,unknown,Kiw1KA0B.03,1.0,5.0,0.0,1.0,1.0,0.0,1.0,1.0,1.0,M,1.0,1.0,1.0,1.0,1.0,0.0,GL_287_1,1.0\\r\\nInitial Import Kiwifruit PSA Markers,Marker,Marker.unknown,,\"\\'marker\\':1 \\'unknown\\':2,3,4\",66,M,Marker unknown,unknown,,2015-06-07 23:01:48.649395+00:00,,2015-06-07 23:01:48.649347+00:00,1,unknown,Kiw1K9ZP.01,0.0,1.0,1.0,1.0,1.0,1.0,19.0,1.0,M,1.0,1.0,3.0,1.0,1.0,0.0,0.0,GL_287_19,1.0\\r\\nInitial Import Kiwifruit PSA Markers,Marker,Marker.unknown,,\"\\'marker\\':1 \\'unknown\\':2,3,4\",67,M,Marker unknown,unknown,,2015-06-07 23:01:48.680873+00:00,,2015-06-07 23:01:48.680840+00:00,1,unknown,Kiw1KA00.01,0.0,1.0,1.0,1.0,1.0,1.0,23.0,1.0,M,1.0,1.0,3.0,1.0,1.0,0.0,0.0,GL_287_23,1.0\\r\\nInitial Import Kiwifruit PSA Markers,Marker,Marker.unknown,,\"\\'marker\\':1 \\'unknown\\':2,3,4\",68,M,Marker unknown,unknown,,2015-06-07 23:01:48.709874+00:00,,2015-06-07 23:01:48.709803+00:00,1,unknown,Kiw1K9X0.01,0.0,1.0,1.0,1.0,1.0,1.0,24.0,1.0,M,1.0,1.0,2.0,1.0,1.0,0.0,0.0,GL_287_24,1.0\\r\\nInitial Import Kiwifruit PSA Markers,Marker,Marker.unknown,,\"\\'marker\\':1 \\'unknown\\':2,3,4\",69,F,Marker unknown,unknown,,2015-06-07 23:01:48.739808+00:00,,2015-06-07 23:01:48.739781+00:00,1,unknown,Kiw1K9WZ.01,0.0,1.0,1.0,1.0,1.0,1.0,28.0,1.0,F,1.0,1.0,4.0,1.0,1.0,0.0,0.0,GL_287_28,1.0\\r\\nInitial Import Kiwifruit PSA Markers,Marker,Marker.unknown,,\"\\'marker\\':1 \\'unknown\\':2,3,4\",70,F,Marker unknown,unknown,,2015-06-07 23:01:48.768706+00:00,,2015-06-07 23:01:48.768642+00:00,1,unknown,Kiw1K9X9.01,0.0,1.0,1.0,1.0,1.0,1.0,30.0,1.0,F,1.0,1.0,4.0,1.0,1.0,0.0,0.0,GL_287_30,1.0\\r\\nInitial Import Kiwifruit PSA Markers,Marker,Marker.unknown,,\"\\'marker\\':1 \\'unknown\\':2,3,4\",71,F,Marker unknown,unknown,,2015-06-07 23:01:48.802804+00:00,,2015-06-07 23:01:48.802740+00:00,1,unknown,Kiw1K9WR.01,0.0,1.0,1.0,1.0,1.0,1.0,31.0,1.0,F,1.0,1.0,4.0,1.0,1.0,0.0,0.0,GL_287_31,1.0\\r\\nInitial Import Kiwifruit PSA Markers,Marker,Marker.unknown,,\"\\'marker\\':1 \\'unknown\\':2,3,4\",72,F,Marker unknown,unknown,,2015-06-07 23:01:48.837133+00:00,,2015-06-07 23:01:48.837068+00:00,1,unknown,Kiw1K9ZZ.01,1.0,1.0,1.0,0.0,1.0,1.0,32.0,1.0,F,1.0,1.0,4.0,1.0,1.0,0.0,0.0,GL_287_32,1.0\\r\\nInitial Import Kiwifruit PSA Markers,Marker,Marker.unknown,,\"\\'marker\\':1 \\'unknown\\':2,3,4\",73,M,Marker unknown,unknown,,2015-06-07 23:01:48.872272+00:00,,2015-06-07 23:01:48.872066+00:00,1,unknown,Kiw1K9WX.01,0.0,1.0,1.0,1.0,1.0,1.0,33.0,1.0,M,1.0,1.0,4.0,1.0,1.0,0.0,0.0,GL_287_33,1.0\\r\\nInitial Import Kiwifruit PSA Markers,Marker,Marker.unknown,,\"\\'marker\\':1 \\'unknown\\':2,3,4\",136,,Marker unknown,unknown,,2015-06-09 04:05:41.880880+00:00,,2015-06-09 04:05:41.880833+00:00,1,unknown,Kiw1KA0B.03,0.0,1.0,1.0,1.0,1.0,1.0,1.0,1.0,1.0,M,0.0,1.0,5.0,1.0,1.0,0.0,GL_287_1,1.0\\r\\nInitial Import Kiwifruit PSA Markers,Marker,Marker.unknown,,\"\\'marker\\':1 \\'unknown\\':2,3,4\",74,M,Marker unknown,unknown,,2015-06-07 23:01:48.904691+00:00,,2015-06-07 23:01:48.904620+00:00,1,unknown,Kiw1K9WY.01,1.0,1.0,1.0,0.0,1.0,1.0,34.0,1.0,M,1.0,1.0,2.0,1.0,1.0,1.0,1.0,GL_287_34,1.0\\r\\nInitial Import Kiwifruit PSA Markers,Marker,Marker.unknown,,\"\\'marker\\':1 \\'unknown\\':2,3,4\",75,F,Marker unknown,unknown,,2015-06-07 23:01:48.940344+00:00,,2015-06-07 23:01:48.940316+00:00,1,unknown,Kiw1KA09.01,0.0,1.0,1.0,1.0,1.0,1.0,36.0,1.0,F,1.0,1.0,5.0,1.0,1.0,0.0,0.0,GL_287_36,1.0\\r\\nInitial Import Kiwifruit PSA Markers,Marker,Marker.unknown,,\"\\'marker\\':1 \\'unknown\\':2,3,4\",76,F,Marker unknown,unknown,,2015-06-07 23:01:48.972773+00:00,,2015-06-07 23:01:48.972687+00:00,1,unknown,Kiw1K9XB.01,0.0,1.0,1.0,1.0,1.0,1.0,39.0,1.0,F,1.0,1.0,4.0,1.0,1.0,0.0,0.0,GL_287_39,1.0\\r\\nInitial Import Kiwifruit PSA Markers,Marker,Marker.unknown,,\"\\'marker\\':1 \\'unknown\\':2,3,4\",77,M,Marker unknown,unknown,,2015-06-07 23:01:49.048306+00:00,,2015-06-07 23:01:49.048279+00:00,1,unknown,Kiw1K9ZR.01,0.0,1.0,1.0,1.0,1.0,1.0,41.0,1.0,M,1.0,1.0,3.0,1.0,1.0,0.0,0.0,GL_287_41,1.0\\r\\nInitial Import Kiwifruit PSA Markers,Marker,Marker.unknown,,\"\\'marker\\':1 \\'unknown\\':2,3,4\",78,M,Marker unknown,unknown,,2015-06-07 23:01:49.079302+00:00,,2015-06-07 23:01:49.079276+00:00,1,unknown,Kiw1K9ZN.01,1.0,1.0,1.0,0.0,1.0,1.0,45.0,1.0,M,1.0,1.0,4.0,1.0,1.0,1.0,1.0,GL_287_45,1.0\\r\\nInitial Import Kiwifruit PSA Markers,Marker,Marker.unknown,,\"\\'marker\\':1 \\'unknown\\':2,3,4\",79,F,Marker unknown,unknown,,2015-06-07 23:01:49.108282+00:00,,2015-06-07 23:01:49.108254+00:00,1,unknown,Kiw1K9XF.01,0.0,1.0,1.0,1.0,1.0,1.0,46.0,1.0,F,1.0,1.0,3.0,1.0,1.0,0.0,0.0,GL_287_46,1.0\\r\\nInitial Import Kiwifruit PSA Markers,Marker,Marker.unknown,,\"\\'marker\\':1 \\'unknown\\':2,3,4\",80,M,Marker unknown,unknown,,2015-06-07 23:01:49.235345+00:00,,2015-06-07 23:01:49.235258+00:00,1,unknown,Kiw1K9XC.01,0.0,1.0,1.0,1.0,1.0,1.0,48.0,1.0,M,1.0,1.0,4.0,1.0,1.0,0.0,0.0,GL_287_48,1.0\\r\\nInitial Import Kiwifruit PSA Markers,Marker,Marker.unknown,,\"\\'marker\\':1 \\'unknown\\':2,3,4\",81,M,Marker unknown,unknown,,2015-06-07 23:01:49.360394+00:00,,2015-06-07 23:01:49.360368+00:00,1,unknown,Kiw1K9ZT.01,0.0,1.0,1.0,1.0,1.0,1.0,49.0,1.0,M,1.0,1.0,3.0,1.0,1.0,0.0,0.0,GL_287_49,1.0\\r\\nInitial Import Kiwifruit PSA Markers,Marker,Marker.unknown,,\"\\'marker\\':1 \\'unknown\\':2,3,4\",82,?,Marker unknown,unknown,,2015-06-07 23:01:49.445594+00:00,,2015-06-07 23:01:49.445524+00:00,1,unknown,no data,0.0,1.0,1.0,1.0,1.0,1.0,54.0,1.0,?,1.0,1.0,3.0,1.0,1.0,1.0,1.0,GL_287_53,1.0\\r\\nInitial Import Kiwifruit PSA Markers,Marker,Marker.unknown,,\"\\'marker\\':1 \\'unknown\\':2,3,4\",83,M,Marker unknown,unknown,,2015-06-07 23:01:49.480427+00:00,,2015-06-07 23:01:49.480400+00:00,1,unknown,Kiw1KA0E.01,1.0,0.0,1.0,0.0,1.0,1.0,59.0,1.0,M,1.0,1.0,2.0,1.0,1.0,1.0,1.0,GL_287_59,1.0\\r\\nInitial Import Kiwifruit PSA Markers,Marker,Marker.unknown,,\"\\'marker\\':1 \\'unknown\\':2,3,4\",84,M,Marker unknown,unknown,,2015-06-07 23:01:49.522847+00:00,,2015-06-07 23:01:49.522776+00:00,1,unknown,Kiw1K9ZW.01,1.0,0.0,1.0,0.0,1.0,0.0,10.0,1.0,M,1.0,1.0,2.0,0.0,1.0,1.0,1.0,GL_287_10,1.0\\r\\nInitial Import Kiwifruit PSA Markers,Marker,Marker.unknown,,\"\\'marker\\':1 \\'unknown\\':2,3,4\",85,F,Marker unknown,unknown,,2015-06-07 23:01:49.596425+00:00,,2015-06-07 23:01:49.596376+00:00,1,unknown,Kiw1K9X7.01,1.0,1.0,1.0,0.0,1.0,0.0,14.0,1.0,F,1.0,1.0,3.0,1.0,1.0,1.0,1.0,GL_287_14,1.0\\r\\nInitial Import Kiwifruit PSA Markers,Marker,Marker.unknown,,\"\\'marker\\':1 \\'unknown\\':2,3,4\",86,M,Marker unknown,unknown,,2015-06-07 23:01:49.632721+00:00,,2015-06-07 23:01:49.632634+00:00,1,unknown,Kiw1KA02.01,0.0,1.0,1.0,1.0,1.0,0.0,18.0,1.0,M,1.0,1.0,2.0,1.0,1.0,1.0,1.0,GL_287_18,1.0\\r\\nInitial Import Kiwifruit PSA Markers,Marker,Marker.unknown,,\"\\'marker\\':1 \\'unknown\\':2,3,4\",87,M,Marker unknown,unknown,,2015-06-07 23:01:49.717410+00:00,,2015-06-07 23:01:49.717325+00:00,1,unknown,Kiw1K9WV.01,0.0,1.0,1.0,1.0,1.0,0.0,27.0,1.0,M,1.0,1.0,3.0,1.0,1.0,0.0,0.0,GL_287_27,1.0\\r\\nInitial Import Kiwifruit PSA Markers,Marker,Marker.unknown,,\"\\'marker\\':1 \\'unknown\\':2,3,4\",88,F,Marker unknown,unknown,,2015-06-07 23:01:49.842602+00:00,,2015-06-07 23:01:49.842530+00:00,1,unknown,Kiw1K9X4.01,1.0,1.0,1.0,0.0,1.0,0.0,42.0,1.0,F,1.0,1.0,5.0,1.0,1.0,1.0,1.0,GL_287_42,1.0\\r\\nInitial Import Kiwifruit PSA Markers,Marker,Marker.unknown,,\"\\'marker\\':1 \\'unknown\\':2,3,4\",89,?,Marker unknown,unknown,,2015-06-07 23:01:49.918079+00:00,,2015-06-07 23:01:49.918023+00:00,1,unknown,no data,0.0,1.0,1.0,1.0,1.0,0.0,44.0,1.0,?,1.0,1.0,4.0,1.0,1.0,1.0,1.0,GL_287_44,1.0\\r\\nInitial Import Kiwifruit PSA Markers,Marker,Marker.unknown,,\"\\'marker\\':1 \\'unknown\\':2,3,4\",90,F,Marker unknown,unknown,,2015-06-07 23:01:49.952353+00:00,,2015-06-07 23:01:49.952264+00:00,1,unknown,Kiw1KA08.01,0.0,1.0,1.0,1.0,1.0,0.0,58.0,1.0,F,1.0,1.0,3.0,1.0,1.0,1.0,1.0,GL_287_58,1.0\\r\\nInitial Import Kiwifruit PSA Markers,Marker,Marker.unknown,,\"\\'marker\\':1 \\'unknown\\':2,3,4\",91,F,Marker unknown,unknown,,2015-06-07 23:01:50.037132+00:00,,2015-06-07 23:01:50.037047+00:00,1,unknown,Kiw1K9WT.01,1.0,0.0,1.0,0.0,1.0,0.0,20.0,1.0,F,1.0,0.0,3.0,0.0,1.0,1.0,1.0,GL_287_20,1.0\\r\\nInitial Import Kiwifruit PSA Markers,Marker,Marker.unknown,,\"\\'marker\\':1 \\'unknown\\':2,3,4\",92,F,Marker unknown,unknown,,2015-06-07 23:01:50.121194+00:00,,2015-06-07 23:01:50.121105+00:00,1,unknown,Kiw1KA05.01,0.0,1.0,1.0,1.0,1.0,0.0,22.0,1.0,F,1.0,0.0,2.0,1.0,1.0,1.0,1.0,GL_287_22,1.0\\r\\nInitial Import Kiwifruit PSA Markers,Marker,Marker.unknown,,\"\\'marker\\':1 \\'unknown\\':2,3,4\",93,M,Marker unknown,unknown,,2015-06-07 23:01:50.152844+00:00,,2015-06-07 23:01:50.152819+00:00,1,unknown,Kiw1KA07.01,0.0,1.0,1.0,1.0,1.0,0.0,40.0,1.0,M,1.0,0.0,2.0,1.0,1.0,0.0,0.0,GL_287_40,1.0\\r\\nInitial Import Kiwifruit PSA Markers,Marker,Marker.unknown,,\"\\'marker\\':1 \\'unknown\\':2,3,4\",94,F,Marker unknown,unknown,,2015-06-07 23:01:50.188773+00:00,,2015-06-07 23:01:50.188741+00:00,1,unknown,Kiw1K9WP.01,1.0,0.0,1.0,0.0,1.0,0.0,56.0,1.0,F,1.0,0.0,5.0,1.0,1.0,1.0,1.0,GL_287_56,1.0\\r\\nInitial Import Kiwifruit PSA Markers,Marker,Marker.unknown,,\"\\'marker\\':1 \\'unknown\\':2,3,4\",95,M,Marker unknown,unknown,,2015-06-07 23:01:50.218400+00:00,,2015-06-07 23:01:50.218366+00:00,1,unknown,Kiw1KA04.01,1.0,1.0,1.0,0.0,0.0,0.0,26.0,1.0,M,1.0,0.0,2.0,1.0,1.0,1.0,1.0,GL_287_26,1.0\\r\\nInitial Import Kiwifruit PSA Markers,Marker,Marker.unknown,,\"\\'marker\\':1 \\'unknown\\':2,3,4\",96,M,Marker unknown,unknown,,2015-06-07 23:01:50.244221+00:00,,2015-06-07 23:01:50.244186+00:00,1,unknown,Kiw1K9XD.01,1.0,0.0,1.0,0.0,0.0,0.0,50.0,1.0,M,0.0,0.0,2.0,0.0,1.0,1.0,1.0,GL_287_50,1.0\\r\\nInitial Import Kiwifruit PSA Markers,Marker,Marker.unknown,,\"\\'marker\\':1 \\'unknown\\':2,3,4\",97,M,Marker unknown,unknown,,2015-06-07 23:01:50.270017+00:00,,2015-06-07 23:01:50.269983+00:00,1,unknown,Kiw1K9WK.01,0.0,1.0,1.0,1.0,0.0,0.0,57.0,1.0,M,0.0,0.0,2.0,1.0,1.0,1.0,1.0,GL_287_57,1.0\\r\\nInitial Import Kiwifruit PSA Markers,Marker,Marker.unknown,,\"\\'marker\\':1 \\'unknown\\':2,3,4\",98,F,Marker unknown,unknown,,2015-06-07 23:01:50.295737+00:00,,2015-06-07 23:01:50.295703+00:00,1,unknown,Kiw1KA0A.01,1.0,1.0,1.0,0.0,0.0,0.0,35.0,1.0,F,0.0,0.0,2.0,1.0,1.0,1.0,1.0,GL_287_35,1.0\\r\\nInitial Import Kiwifruit PSA Markers,Marker,Marker.unknown,,\"\\'marker\\':1 \\'unknown\\':2,3,4\",99,F,Marker unknown,unknown,,2015-06-07 23:01:50.321604+00:00,,2015-06-07 23:01:50.321570+00:00,1,unknown,Kiw1KA01.01,0.0,1.0,1.0,1.0,0.0,0.0,38.0,1.0,F,0.0,0.0,5.0,1.0,1.0,0.0,0.0,GL_287_38,1.0\\r\\nInitial Import Kiwifruit PSA Markers,Marker,Marker.unknown,,\"\\'marker\\':1 \\'unknown\\':2,3,4\",100,M,Marker unknown,unknown,,2015-06-07 23:01:50.446615+00:00,,2015-06-07 23:01:50.446592+00:00,1,unknown,Kiw1K9ZV.01,1.0,1.0,1.0,0.0,0.0,0.0,3.0,1.0,M,0.0,0.0,2.0,1.0,1.0,0.0,0.0,GL_287_3,0.0\\r\\nInitial Import Kiwifruit PSA Markers,Marker,Marker.unknown,,\"\\'marker\\':1 \\'unknown\\':2,3,4\",101,F,Marker unknown,unknown,,2015-06-07 23:01:50.484871+00:00,,2015-06-07 23:01:50.484840+00:00,1,unknown,Kiw1KA0D.01,1.0,0.0,1.0,0.0,0.0,0.0,4.0,1.0,F,0.0,0.0,2.0,0.0,1.0,1.0,1.0,GL_287_4,0.0\\r\\nInitial Import Kiwifruit PSA Markers,Marker,Marker.unknown,,\"\\'marker\\':1 \\'unknown\\':2,3,4\",102,M,Marker unknown,unknown,,2015-06-07 23:01:50.623083+00:00,,2015-06-07 23:01:50.622994+00:00,1,unknown,Kiw1K9WL.01,0.0,1.0,1.0,1.0,0.0,0.0,8.0,1.0,M,0.0,0.0,2.0,1.0,1.0,1.0,1.0,GL_287_8,0.0\\r\\nInitial Import Kiwifruit PSA Markers,Marker,Marker.unknown,,\"\\'marker\\':1 \\'unknown\\':2,3,4\",103,F,Marker unknown,unknown,,2015-06-07 23:01:50.654968+00:00,,2015-06-07 23:01:50.654913+00:00,1,unknown,Kiw1K9WM.01,0.0,1.0,1.0,1.0,0.0,0.0,12.0,1.0,F,0.0,0.0,2.0,1.0,1.0,1.0,1.0,GL_287_12,0.0\\r\\nInitial Import Kiwifruit PSA Markers,Marker,Marker.unknown,,\"\\'marker\\':1 \\'unknown\\':2,3,4\",104,M,Marker unknown,unknown,,2015-06-07 23:01:50.741530+00:00,,2015-06-07 23:01:50.741442+00:00,1,unknown,Kiw1K9WS.01,1.0,1.0,1.0,0.0,0.0,0.0,29.0,1.0,M,0.0,0.0,2.0,1.0,1.0,1.0,1.0,GL_287_29,0.0\\r\\nInitial Import Kiwifruit PSA Markers,Marker,Marker.unknown,,\"\\'marker\\':1 \\'unknown\\':2,3,4\",105,M,Marker unknown,unknown,,2015-06-07 23:01:50.950337+00:00,,2015-06-07 23:01:50.950250+00:00,1,unknown,Kiw1K9XA.01,0.0,1.0,1.0,1.0,0.0,0.0,37.0,1.0,M,0.0,0.0,2.0,1.0,1.0,0.0,0.0,GL_287_37,0.0\\r\\nInitial Import Kiwifruit PSA Markers,Marker,Marker.unknown,,\"\\'marker\\':1 \\'unknown\\':2,3,4\",106,F,Marker unknown,unknown,,2015-06-07 23:01:51.267627+00:00,,2015-06-07 23:01:51.267540+00:00,1,unknown,Kiw1K9X3.01,0.0,1.0,1.0,1.0,0.0,0.0,43.0,1.0,F,0.0,0.0,2.0,1.0,1.0,1.0,1.0,GL_287_43,0.0\\r\\nInitial Import Kiwifruit PSA Markers,Marker,Marker.unknown,,\"\\'marker\\':1 \\'unknown\\':2,3,4\",107,M,Marker unknown,unknown,,2015-06-07 23:01:51.301653+00:00,,2015-06-07 23:01:51.301566+00:00,1,unknown,Kiw1K9X8.01,1.0,0.0,1.0,0.0,0.0,0.0,47.0,1.0,M,0.0,0.0,2.0,0.0,1.0,1.0,1.0,GL_287_47,0.0\\r\\nInitial Import Kiwifruit PSA Markers,Marker,Marker.unknown,,\"\\'marker\\':1 \\'unknown\\':2,3,4\",108,M,Marker unknown,unknown,,2015-06-07 23:01:51.331427+00:00,,2015-06-07 23:01:51.331400+00:00,1,unknown,Kiw1K9XE.01,0.0,1.0,1.0,1.0,0.0,0.0,51.0,1.0,M,0.0,0.0,2.0,1.0,1.0,0.0,0.0,GL_287_51,0.0\\r\\nInitial Import Kiwifruit PSA Markers,Marker,Marker.unknown,,\"\\'marker\\':1 \\'unknown\\':2,3,4\",109,M,Marker unknown,unknown,,2015-06-07 23:01:51.360626+00:00,,2015-06-07 23:01:51.360553+00:00,1,unknown,Kiw1K9ZS.01,1.0,0.0,1.0,0.0,0.0,0.0,52.0,1.0,M,0.0,0.0,2.0,1.0,1.0,1.0,1.0,GL_287_52,0.0\\r\\nInitial Import Kiwifruit PSA Markers,Marker,Marker.unknown,,\"\\'marker\\':1 \\'unknown\\':2,3,4\",110,M,Marker unknown,unknown,,2015-06-07 23:01:51.393242+00:00,,2015-06-07 23:01:51.393188+00:00,1,unknown,Kiw1KA0F.01,0.0,1.0,1.0,1.0,0.0,0.0,13.0,1.0,M,0.0,0.0,1.0,1.0,0.0,1.0,1.0,GL_287_13,0.0\\r\\nInitial Import Kiwifruit PSA Markers,Marker,Marker.unknown,,\"\\'marker\\':1 \\'unknown\\':2,3,4\",111,M,Marker unknown,unknown,,2015-06-07 23:01:51.429778+00:00,,2015-06-07 23:01:51.429691+00:00,1,unknown,Kiw1KA03.01,0.0,1.0,1.0,1.0,0.0,0.0,16.0,1.0,M,0.0,0.0,1.0,1.0,0.0,1.0,1.0,GL_287_16,0.0\\r\\nInitial Import Kiwifruit PSA Markers,Marker,Marker.unknown,,\"\\'marker\\':1 \\'unknown\\':2,3,4\",112,F,Marker unknown,unknown,,2015-06-07 23:01:51.461403+00:00,,2015-06-07 23:01:51.461317+00:00,1,unknown,Kiw1K9WW.01,0.0,1.0,1.0,1.0,0.0,0.0,21.0,1.0,F,0.0,0.0,1.0,1.0,0.0,1.0,1.0,GL_287_21,0.0\\r\\n'"
      ]
     },
     "execution_count": 2,
     "metadata": {},
     "output_type": "execute_result"
    }
   ],
   "source": [
    "r.text"
   ]
  },
  {
   "cell_type": "markdown",
   "metadata": {
    "slideshow": {
     "slide_type": "slide"
    }
   },
   "source": [
    "## API"
   ]
  },
  {
   "cell_type": "markdown",
   "metadata": {
    "slideshow": {
     "slide_type": "fragment"
    }
   },
   "source": [
    "There are four restful operations allowed when using pinf. Refer to https://realpython.com/blog/python/django-rest-framework-quick-start/\n",
    "\n",
    "* GET Show\n",
    "* POST Create New\n",
    "* PUT UPdate Existing \n",
    "* DELETE Delete Existing\n"
   ]
  },
  {
   "cell_type": "markdown",
   "metadata": {
    "slideshow": {
     "slide_type": "slide"
    }
   },
   "source": [
    "## Format"
   ]
  },
  {
   "cell_type": "markdown",
   "metadata": {
    "slideshow": {
     "slide_type": "fragment"
    }
   },
   "source": [
    "http://url.something/api/(target)/[pk]/\n",
    "\n",
    "Where:\n",
    "target = target dataset\n",
    "pk = primary key of a dataset element\n",
    "\n",
    "If the pk is not given the whole dataset will be returned. Values will be returned in json format"
   ]
  },
  {
   "cell_type": "markdown",
   "metadata": {
    "slideshow": {
     "slide_type": "slide"
    }
   },
   "source": [
    "## Example GET"
   ]
  },
  {
   "cell_type": "markdown",
   "metadata": {
    "slideshow": {
     "slide_type": "fragment"
    }
   },
   "source": [
    "We are using the Python request library http://docs.python-requests.org/en/latest/user/quickstart/"
   ]
  },
  {
   "cell_type": "code",
   "execution_count": 3,
   "metadata": {
    "collapsed": false,
    "slideshow": {
     "slide_type": "fragment"
    }
   },
   "outputs": [
    {
     "data": {
      "text/plain": [
       "<Response [200]>"
      ]
     },
     "execution_count": 3,
     "metadata": {},
     "output_type": "execute_result"
    }
   ],
   "source": [
    "import requests\n",
    "\n",
    "r = requests.get('http://10.1.4.56:8080/api/marker/57')\n",
    "r"
   ]
  },
  {
   "cell_type": "code",
   "execution_count": 4,
   "metadata": {
    "collapsed": false,
    "slideshow": {
     "slide_type": "skip"
    }
   },
   "outputs": [
    {
     "data": {
      "text/plain": [
       "u'{\"obid\":57,\"obs\":{\"KEA_ID\":\"Kiw1KA0B.03\",\"ooze_2014.08.28_Luis\":1.0,\"categories_2014.10.17\":5.0,\"tolerant_2014.04.15_Luis\":0.0,\"susceptible_older_Luis\":1.0,\"no_ooze_2014.09.15\":1.0,\"tolerante_older_Luis\":0.0,\"GENOTYPE_ID\":1.0,\"ooze_2014.09.23\":1.0,\"replicate_2014.04.15_Luis\":1.0,\"Sex\":\"M\",\"replicate_2014.04.29_Luis\":1.0,\"no_ooze_2014.09.04_Luis\":1.0,\"susceptible_2014.04.15_Luis\":1.0,\"ooze_2014.10.17\":1.0,\"susceptible_2014.04.29_Luis\":1.0,\"tolerant_2014.09.29_Luis\":0.0,\"EBRIDA_ID\":\"GL_287_1\",\"ooze_2014.10.08\":1.0}}'"
      ]
     },
     "execution_count": 4,
     "metadata": {},
     "output_type": "execute_result"
    }
   ],
   "source": [
    "r.text"
   ]
  },
  {
   "cell_type": "markdown",
   "metadata": {
    "slideshow": {
     "slide_type": "slide"
    }
   },
   "source": [
    "## Example PUT"
   ]
  },
  {
   "cell_type": "code",
   "execution_count": 5,
   "metadata": {
    "collapsed": false,
    "slideshow": {
     "slide_type": "fragment"
    }
   },
   "outputs": [],
   "source": [
    "import requests\n",
    "import json\n",
    "\n",
    "nd = json.loads(r.text)\n",
    "nd[\"obs\"][\"KEA_ID\"] = 'Kiw1KA0B.03'\n",
    "\n",
    "headers = {'Content-Type': 'application/json'}\n",
    "\n",
    "r = requests.put('http://10.1.4.56:8080/api/marker/57', data=json.dumps(nd), headers=headers)\n"
   ]
  },
  {
   "cell_type": "markdown",
   "metadata": {
    "slideshow": {
     "slide_type": "slide"
    }
   },
   "source": [
    "## Example POST"
   ]
  },
  {
   "cell_type": "code",
   "execution_count": 6,
   "metadata": {
    "collapsed": false,
    "slideshow": {
     "slide_type": "fragment"
    }
   },
   "outputs": [
    {
     "data": {
      "text/plain": [
       "<Response [201]>"
      ]
     },
     "execution_count": 6,
     "metadata": {},
     "output_type": "execute_result"
    }
   ],
   "source": [
    "import requests\n",
    "import json\n",
    "\n",
    "nd = r.text\n",
    "\n",
    "headers = {'Content-Type': 'application/json'}\n",
    "\n",
    "r = requests.post('http://10.1.4.56:8080/api/marker/57', data=nd, headers=headers)\n",
    "r"
   ]
  },
  {
   "cell_type": "markdown",
   "metadata": {
    "slideshow": {
     "slide_type": "slide"
    }
   },
   "source": [
    "## Example DELETE"
   ]
  },
  {
   "cell_type": "code",
   "execution_count": 7,
   "metadata": {
    "collapsed": false,
    "slideshow": {
     "slide_type": "fragment"
    }
   },
   "outputs": [
    {
     "data": {
      "text/plain": [
       "<Response [404]>"
      ]
     },
     "execution_count": 7,
     "metadata": {},
     "output_type": "execute_result"
    }
   ],
   "source": [
    "import requests\n",
    "\n",
    "r = requests.delete('http://10.1.4.56:8080/api/marker/123')\n",
    "r"
   ]
  },
  {
   "cell_type": "code",
   "execution_count": null,
   "metadata": {
    "collapsed": false,
    "slideshow": {
     "slide_type": "skip"
    }
   },
   "outputs": [],
   "source": []
  },
  {
   "cell_type": "code",
   "execution_count": 244,
   "metadata": {
    "collapsed": false,
    "slideshow": {
     "slide_type": "skip"
    }
   },
   "outputs": [],
   "source": []
  }
 ],
 "metadata": {
  "celltoolbar": "Slideshow",
  "kernelspec": {
   "display_name": "Python 2",
   "language": "python",
   "name": "python2"
  },
  "language_info": {
   "codemirror_mode": {
    "name": "ipython",
    "version": 2
   },
   "file_extension": ".py",
   "mimetype": "text/x-python",
   "name": "python",
   "nbconvert_exporter": "python",
   "pygments_lexer": "ipython2",
   "version": "2.7.6"
  }
 },
 "nbformat": 4,
 "nbformat_minor": 0
}
